{
  "nbformat": 4,
  "nbformat_minor": 0,
  "metadata": {
    "colab": {
      "provenance": [],
      "authorship_tag": "ABX9TyOXB4QAkCDKfLCWJfIIXh/D",
      "include_colab_link": true
    },
    "kernelspec": {
      "name": "python3",
      "display_name": "Python 3"
    },
    "language_info": {
      "name": "python"
    }
  },
  "cells": [
    {
      "cell_type": "markdown",
      "metadata": {
        "id": "view-in-github",
        "colab_type": "text"
      },
      "source": [
        "<a href=\"https://colab.research.google.com/github/thadeufb/desafioIA/blob/main/Desafio_AluraGoogle_Avaliador_de_redacoes.ipynb\" target=\"_parent\"><img src=\"https://colab.research.google.com/assets/colab-badge.svg\" alt=\"Open In Colab\"/></a>"
      ]
    },
    {
      "cell_type": "markdown",
      "source": [
        "Configurações"
      ],
      "metadata": {
        "id": "RixIytbsmo5c"
      }
    },
    {
      "cell_type": "code",
      "source": [
        "\"\"\"\n",
        "At the command line, only need to run once to install the package via pip:\n",
        "\n",
        "$ pip install google-generativeai\n",
        "\"\"\"\n",
        "\n",
        "import google.generativeai as genai\n",
        "from google.colab import userdata\n",
        "\n",
        "genai.configure(api_key=userdata.get('chave'))\n",
        "\n",
        "# Set up the model\n",
        "generation_config = {\n",
        "  \"temperature\": 0.9,\n",
        "  \"top_p\": 1,\n",
        "  \"top_k\": 0,\n",
        "  \"max_output_tokens\": 2048,\n",
        "}\n",
        "\n",
        "safety_settings = [\n",
        "  {\n",
        "    \"category\": \"HARM_CATEGORY_HARASSMENT\",\n",
        "    \"threshold\": \"BLOCK_MEDIUM_AND_ABOVE\"\n",
        "  },\n",
        "  {\n",
        "    \"category\": \"HARM_CATEGORY_HATE_SPEECH\",\n",
        "    \"threshold\": \"BLOCK_MEDIUM_AND_ABOVE\"\n",
        "  },\n",
        "  {\n",
        "    \"category\": \"HARM_CATEGORY_SEXUALLY_EXPLICIT\",\n",
        "    \"threshold\": \"BLOCK_MEDIUM_AND_ABOVE\"\n",
        "  },\n",
        "  {\n",
        "    \"category\": \"HARM_CATEGORY_DANGEROUS_CONTENT\",\n",
        "    \"threshold\": \"BLOCK_MEDIUM_AND_ABOVE\"\n",
        "  },\n",
        "]\n",
        "\n",
        "model = genai.GenerativeModel(model_name=\"gemini-1.5-pro-latest\",\n",
        "                              generation_config=generation_config,\n",
        "                              safety_settings=safety_settings)"
      ],
      "metadata": {
        "id": "nk2pNkTpm2oW"
      },
      "execution_count": 33,
      "outputs": []
    },
    {
      "cell_type": "markdown",
      "source": [
        "Treinando a IA"
      ],
      "metadata": {
        "id": "p41LpteHnJRO"
      }
    },
    {
      "cell_type": "code",
      "source": [
        "prompt_parts = [\n",
        "  \"A Redação é avaliada com nota de 1 a 1000, levando em conta as 5 competências\\n200 Pontos na Competência 1 (C1): Demonstra excelente domínio da modalidade escrita formal da língua portuguesa e de escolha de registro. Desvios gramaticais ou de convenções da escrita serão aceitos somente como excepcionalidade e quando não caracterizarem reincidência.\\n200 Pontos na Competência 2 (C2): Desenvolve o tema por meio de argumentação consistente, a partir de um repertório sociocultural produtivo, e apresenta excelente domínio do texto dissertativo-argumentativo.\\n200 Pontos na Competência 3 (C3): Apresenta informações, fatos e opiniões relacionados ao tema proposto, de forma consistente e organizada, configurando autoria, em defesa de um ponto de vista.\\n200 Pontos na Competência 4 (C4): Articula bem as partes do texto e apresenta repertório diversificado de recursos coesivos.\\n200 Pontos na Competência 5 (C5): Elabora muito bem proposta de intervenção, detalhada, relacionada ao tema e articulada à discussão desenvolvida no texto.\\n\\n\\nAnalise resumidamente a última redação fornecida dando a nota de cada conceito e a nota total\",\n",
        "  \"redacao: Na obra \\\"Utopia\\\" do escritor inglês Thomas More retrata uma sociedade\\nperfeita na qual o corpo social padroniza-se pela ausência de conflitos e\\nproblemas. No entanto, o que se observa na realidade contemporânea é o\\noposto do que More afirmava, uma vez que a desvalorização de\\ncomunidades e povos tradicionais no Brasil apresentam barreiras a qual\\ndificultam a concretização dos planos de Thomas. Esse cenário antagônico\\né fruto tanto da inoperância estatal, quanto do preconceito à essas\\ncomunidades e povos tradicionais.\\nPrecipuamente, é fulcral pontuar que a desvalorização dos povos e\\ncomunidades tradicionais brasileiros se dá por meio da negligência\\ngovernamental, uma vez que não geram os devidos incentivos à essas\\npopulações. Segundo o pensador Thomas Hobbe, o Estado é responsável\\npor garantir o bem-estar da população, entretanto isso não ocorre no Brasil.\\nDevido a falta de atuação das autoridades, a valorização destes povos e\\ncomunidades não é garantida pelo fato de não estarem inseridos\\ndevidamente na sociedade brasileira. Desse modo, faz-se mister a\\nreformulação dessa postura estatal urgente.\\nAdemais, é imperativo ressaltar o preconceito promotor do problema. De\\nacordo com uma reportagem do Globo Repórter, há uma parte da\\npopulação que se abastem de considerar estes povos como parte da\\nsociedade, resultando em ameaças aos seus territórios. Tudo isso retarda a\\nresolução do empecilho, tendo em vista que o preconceito retarda a\\nperpetuação desse quadro deletério.\\nFica exposta, portanto, a importância de medidas para conter a\\nproblemática. Nessa ótica, o Governo Federal, responsável de garantir o\\npleno bem-estar social, deve criar programas e palestras, por meio da mídia\\ne escolas com o objetivo de conscientizar todas as classes sociais da\\nvalorização destas comunidades e povos tradicionais do Brasil. Desse\\nmodo, atenuar-se-á, em médio e longo prazo, o impacto nocivo desta\\ndesvalorização, e a coletividade alcançará a Utopia de More.\",\n",
        "  \"output: C1: 180\\nC2: 200\\nC3: 180\\nC4: 180\\nC5: 180\\nNota total: 920\",\n",
        "  \"redacao: O poema \\\"No meio do caminho\\\" de Carlos Drummond de Andrade compara os\\ndesafios a serem superados na vida a uma pedra. Analogamente, apesar dos\\npovos tradicionais brasileiros serem reconhecidos cultural e historicamente de\\nacordo com documentos oficiais, existem \\\"pedras\\\" a serem superadas para que\\nisso seja uma realidade na prática e estas são a falta de tratamento das histórias\\ndesses povos em ambientes de formação intelectual e a falta de\\nrepresentatividade desses grupos em meios televisivos e na mídia em um todo.\\nEm primeira instância, cabe analisar a valorização dos povos tradicionais nas\\nescolas e nas faculdades. Segundo Immanuel Kant, o ser humano se forma como\\nindivíduo através da educação. Dessa forma, a introdução da história de povos\\nindígenas, ribeirinhos, ciganos e entre outros povos tradicionais desde a infância é\\no caminho para formação de uma sociedade que valoriza e respeita diferentes\\nculturas sem qualquer distinção.\\nAlém disso, vê-se a importância da representatividade de povos tradicionais nos\\nmeios culturais. Assim como Habermas, integrante do Escola de Frankfurt,\\nanalisou, a mídia é um ambiente de exercer a liberdade de expressão, de diálogo\\ne, logo, de conhecimento. Portanto, é necessária a integração de indivíduos\\npertencentes a povos tradicionais no cinema, no teatro, nos jornais, por exemplo,\\npara que esses meios possam também propagar a educação sobre as histórias e\\nas culturas desses povos.\\nAssim, é necessária a elaboração de formas para superar os desafios tratados.\\nCabe ao Ministério da Educação exigir de escolas públicas e privadas a educação\\nsobre história dos povos tradicionais, seja através da adaptação da carga horária\\nestudantil para tratar a temática, seja por meio de palestras fora do ambiente\\nescolar e acessíveis a todos, sendo arcadas pelo Governo. Assim, os estudantes\\nentenderão a relevância dos povos tradicionais do Brasil, valorizando-os.\\nTambém, o Governo deve incentivar o aparecimento desses povos em\\nreportagens, entrevistas, por exemplo, de forma que esses possam ter destaque,\\na fim de que suas culturas disseminadas, conhecidas e, logo, valorizadas. Com\\nisso, os desafios - ou \\\"pedras\\\" - poderão ser superados e a cultura dos povos\\ntradicionais será valorizada.\",\n",
        "  \"output: C1: 140\\nC2: 180\\nC3: 140\\nC4: 180\\nC5: 160\\nNota total: 800\",\n",
        "\n",
        "]"
      ],
      "metadata": {
        "id": "8kSzmHTVmer4"
      },
      "execution_count": 26,
      "outputs": []
    },
    {
      "cell_type": "markdown",
      "source": [
        "Obtendo os resultados. Execute o bloco e cole um texto para ser avaliado"
      ],
      "metadata": {
        "id": "UbUArUvhnPrC"
      }
    },
    {
      "cell_type": "code",
      "execution_count": null,
      "metadata": {
        "id": "dsACb5DUgUVO"
      },
      "outputs": [],
      "source": [
        "redacao = input()\n",
        "prompt_parts.append(f\"redacao: {redacao}, output: \")\n",
        "response = model.generate_content(prompt_parts)\n",
        "print(f\"{response.text}\")"
      ]
    }
  ]
}